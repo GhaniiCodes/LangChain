{
 "cells": [
  {
   "cell_type": "markdown",
   "id": "32da84b2",
   "metadata": {},
   "source": [
    "# Reading a Text File"
   ]
  },
  {
   "cell_type": "code",
   "execution_count": 4,
   "id": "1dda0650",
   "metadata": {},
   "outputs": [],
   "source": [
    "from langchain_community.document_loaders import TextLoader"
   ]
  },
  {
   "cell_type": "code",
   "execution_count": 5,
   "metadata": {},
   "outputs": [
    {
     "data": {
      "text/plain": [
       "<langchain_community.document_loaders.text.TextLoader at 0x20cedefac50>"
      ]
     },
     "execution_count": 5,
     "metadata": {},
     "output_type": "execute_result"
    }
   ],
   "source": [
    "Loader = TextLoader(\"requirements.txt\")\n",
    "Loader"
   ]
  },
  {
   "cell_type": "code",
   "execution_count": 7,
   "metadata": {},
   "outputs": [
    {
     "data": {
      "text/plain": [
       "[Document(metadata={'source': 'requirements.txt'}, page_content='langchain\\nipykernel\\npython-dotenv\\nlangchain_community')]"
      ]
     },
     "execution_count": 7,
     "metadata": {},
     "output_type": "execute_result"
    }
   ],
   "source": [
    "Text = Loader.load()\n",
    "Text"
   ]
  },
  {
   "cell_type": "markdown",
   "id": "d5e3c850",
   "metadata": {},
   "source": [
    "# Reading a PDF File "
   ]
  },
  {
   "cell_type": "code",
   "execution_count": 8,
   "id": "9d861494",
   "metadata": {},
   "outputs": [],
   "source": [
    "from langchain_community.document_loaders import PyPDFLoader"
   ]
  },
  {
   "cell_type": "code",
   "execution_count": 10,
   "id": "c7afb07e",
   "metadata": {},
   "outputs": [
    {
     "data": {
      "text/plain": [
       "[Document(metadata={'producer': 'iLovePDF', 'creator': 'PyPDF', 'creationdate': '', 'moddate': '2025-07-04T22:16:21+00:00', 'source': 'Offer Letter.pdf', 'total_pages': 1, 'page': 0, 'page_label': '1'}, page_content='OFFER LETTER\\nWe are delighted to Offer you an internship position with DevelopersHub\\nCorporation. \\nAs an intern at DevelopersHub Corporation, you are now a part of a dynamic\\ncommunity dedicated to innovation and excellence in the tech industry. Your DHC ID\\nwill grant you access to a wide range of resources within DevelopersHub, including\\nexclusive training materials, collaborative tools, and mentorship from experienced\\nprofessionals.\\nThis internship is an opportunity for you to expand your knowledge, develop practical\\nskills, and contribute to meaningful projects that have the potential to impact the\\ntech landscape.\\nOnce again, welcome to DevelopersHub Corporation! We are excited to embark on\\nthis journey with you.\\nDevelopersHub\\nCorporation\\nwww.developershubcorp.com\\nhr@developershubcorp.com\\nWarm Regards,\\nM.Faizan Zafar Khan\\nGeneral Operational Manager\\nTo : \\nMuhammad Usman Ghani\\nAI & Machine Learning\\nDHC-400\\nDate : \\n5th July,  2025')]"
      ]
     },
     "execution_count": 10,
     "metadata": {},
     "output_type": "execute_result"
    }
   ],
   "source": [
    "Pdf_Loader = PyPDFLoader('Offer Letter.pdf')\n",
    "Text = Pdf_Loader.load()\n",
    "Text"
   ]
  },
  {
   "cell_type": "markdown",
   "id": "f8fa5b94",
   "metadata": {},
   "source": [
    "# Web Based Loader"
   ]
  },
  {
   "cell_type": "code",
   "execution_count": 13,
   "id": "ec0a3b37",
   "metadata": {},
   "outputs": [],
   "source": [
    "from langchain_community.document_loaders import WebBaseLoader\n",
    "import bs4"
   ]
  },
  {
   "cell_type": "code",
   "execution_count": 19,
   "id": "e85ba71d",
   "metadata": {},
   "outputs": [],
   "source": [
    "Loader = WebBaseLoader(web_path=\"https://en.wikipedia.org/wiki/Goal_(sports)\",\n",
    "                       bs_kwargs=dict(parse_only = bs4.SoupStrainer(\n",
    "                           class_ = (\"vector-header-container\", \"mw-footer-container\")\n",
    "                       )))"
   ]
  },
  {
   "cell_type": "code",
   "execution_count": 20,
   "id": "1fb650af",
   "metadata": {},
   "outputs": [
    {
     "data": {
      "text/plain": [
       "[Document(metadata={'source': 'https://en.wikipedia.org/wiki/Goal_(sports)'}, page_content='\\n\\n\\n\\n\\n\\n\\nMain menu\\n\\n\\n\\n\\n\\nMain menu\\nmove to sidebar\\nhide\\n\\n\\n\\n\\t\\tNavigation\\n\\t\\n\\n\\nMain pageContentsCurrent eventsRandom articleAbout WikipediaContact us\\n\\n\\n\\n\\n\\n\\t\\tContribute\\n\\t\\n\\n\\nHelpLearn to editCommunity portalRecent changesUpload fileSpecial pages\\n\\n\\n\\n\\n\\n\\n\\n\\n\\n\\n\\n\\n\\n\\n\\n\\n\\n\\n\\nSearch\\n\\n\\n\\n\\n\\n\\n\\n\\n\\n\\n\\nSearch\\n\\n\\n\\n\\n\\n\\n\\n\\n\\n\\n\\n\\n\\n\\n\\n\\n\\n\\n\\n\\n\\n\\nAppearance\\n\\n\\n\\n\\n\\n\\n\\n\\n\\n\\n\\n\\n\\n\\n\\n\\nDonate\\n\\nCreate account\\n\\nLog in\\n\\n\\n\\n\\n\\n\\n\\n\\nPersonal tools\\n\\n\\n\\n\\n\\nDonate Create account Log in\\n\\n\\n\\n\\n\\n\\t\\tPages for logged out editors learn more\\n\\n\\n\\nContributionsTalk\\n\\n\\n\\n\\n\\n\\n\\n\\n\\n\\n\\n This page was last edited on 2 July 2025, at 00:28\\xa0(UTC).\\nText is available under the Creative Commons Attribution-ShareAlike 4.0 License;\\nadditional terms may apply. By using this site, you agree to the Terms of Use and Privacy Policy. Wikipedia® is a registered trademark of the Wikimedia Foundation, Inc., a non-profit organization.\\n\\n\\nPrivacy policy\\nAbout Wikipedia\\nDisclaimers\\nContact Wikipedia\\nCode of Conduct\\nDevelopers\\nStatistics\\nCookie statement\\nMobile view\\n\\n\\n\\n\\n\\n\\n')]"
      ]
     },
     "execution_count": 20,
     "metadata": {},
     "output_type": "execute_result"
    }
   ],
   "source": [
    "Loader.load()"
   ]
  }
 ],
 "metadata": {
  "kernelspec": {
   "display_name": "GENAI",
   "language": "python",
   "name": "python3"
  },
  "language_info": {
   "codemirror_mode": {
    "name": "ipython",
    "version": 3
   },
   "file_extension": ".py",
   "mimetype": "text/x-python",
   "name": "python",
   "nbconvert_exporter": "python",
   "pygments_lexer": "ipython3",
   "version": "3.11.3"
  }
 },
 "nbformat": 4,
 "nbformat_minor": 5
}
