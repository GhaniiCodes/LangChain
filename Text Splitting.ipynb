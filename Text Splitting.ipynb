{
 "cells": [
  {
   "cell_type": "markdown",
   "id": "97b63072",
   "metadata": {},
   "source": [
    "Text Splitting Techniques"
   ]
  },
  {
   "cell_type": "code",
   "execution_count": 24,
   "id": "7e89103b",
   "metadata": {},
   "outputs": [],
   "source": [
    "from langchain_community.document_loaders import TextLoader\n",
    "from langchain_text_splitters import CharacterTextSplitter"
   ]
  },
  {
   "cell_type": "code",
   "execution_count": 25,
   "id": "929ecc09",
   "metadata": {},
   "outputs": [
    {
     "data": {
      "text/plain": [
       "<langchain_community.document_loaders.text.TextLoader at 0x1f535b58f90>"
      ]
     },
     "execution_count": 25,
     "metadata": {},
     "output_type": "execute_result"
    }
   ],
   "source": [
    "Loader = TextLoader('Letter.txt')\n",
    "Loader "
   ]
  },
  {
   "cell_type": "code",
   "execution_count": 26,
   "id": "939a5cf3",
   "metadata": {},
   "outputs": [
    {
     "data": {
      "text/plain": [
       "[Document(metadata={'source': 'Letter.txt'}, page_content='1. Teachers: Firstly, there have been several complaints regarding the teaching methods and availability\\n of some of the professors. Many students feel that certain teachers are not approachable and do not\\n  provide adequate support during office hours. This has created a gap in understanding\\n   the course material.\\n\\n1. Teachers: Firstly, there have been several complaints regarding the teaching methods and availability\\n of some of the professors. Many students feel that certain teachers are not approachable and do not\\n  provide adequate support during office hours. This has created a gap in understanding\\n   the course material.\\n\\n1. Teachers: Firstly, there have been several complaints regarding the teaching methods and availability\\n of some of the professors. Many students feel that certain teachers are not approachable and do not\\n  provide adequate support during office hours. This has created a gap in understanding\\n   the course material.\\n\\n1. Teachers: Firstly, there have been several complaints regarding the teaching methods and availability\\n of some of the professors. Many students feel that certain teachers are not approachable and do not\\n  provide adequate support during office hours. This has created a gap in understanding\\n   the course material.')]"
      ]
     },
     "execution_count": 26,
     "metadata": {},
     "output_type": "execute_result"
    }
   ],
   "source": [
    "Text = Loader.load()\n",
    "Text"
   ]
  },
  {
   "cell_type": "code",
   "execution_count": 33,
   "id": "347a4c8f",
   "metadata": {},
   "outputs": [
    {
     "name": "stderr",
     "output_type": "stream",
     "text": [
      "Created a chunk of size 317, which is longer than the specified 100\n",
      "Created a chunk of size 317, which is longer than the specified 100\n",
      "Created a chunk of size 317, which is longer than the specified 100\n"
     ]
    }
   ],
   "source": [
    "Splitter = CharacterTextSplitter(chunk_size=100, chunk_overlap=50)\n",
    "text = Splitter.split_documents(Text)"
   ]
  },
  {
   "cell_type": "code",
   "execution_count": 34,
   "id": "f30eb283",
   "metadata": {},
   "outputs": [
    {
     "name": "stdout",
     "output_type": "stream",
     "text": [
      "page_content='1. Teachers: Firstly, there have been several complaints regarding the teaching methods and availability\n",
      " of some of the professors. Many students feel that certain teachers are not approachable and do not\n",
      "  provide adequate support during office hours. This has created a gap in understanding\n",
      "   the course material.' metadata={'source': 'Letter.txt'}\n",
      "page_content='1. Teachers: Firstly, there have been several complaints regarding the teaching methods and availability\n",
      " of some of the professors. Many students feel that certain teachers are not approachable and do not\n",
      "  provide adequate support during office hours. This has created a gap in understanding\n",
      "   the course material.' metadata={'source': 'Letter.txt'}\n",
      "page_content='1. Teachers: Firstly, there have been several complaints regarding the teaching methods and availability\n",
      " of some of the professors. Many students feel that certain teachers are not approachable and do not\n",
      "  provide adequate support during office hours. This has created a gap in understanding\n",
      "   the course material.' metadata={'source': 'Letter.txt'}\n"
     ]
    }
   ],
   "source": [
    "print (text[0])\n",
    "print (text[1])\n",
    "print (text[2])\n"
   ]
  },
  {
   "cell_type": "code",
   "execution_count": null,
   "id": "3205c0cd",
   "metadata": {},
   "outputs": [],
   "source": []
  }
 ],
 "metadata": {
  "kernelspec": {
   "display_name": "GENAI",
   "language": "python",
   "name": "python3"
  },
  "language_info": {
   "codemirror_mode": {
    "name": "ipython",
    "version": 3
   },
   "file_extension": ".py",
   "mimetype": "text/x-python",
   "name": "python",
   "nbconvert_exporter": "python",
   "pygments_lexer": "ipython3",
   "version": "3.11.3"
  }
 },
 "nbformat": 4,
 "nbformat_minor": 5
}
